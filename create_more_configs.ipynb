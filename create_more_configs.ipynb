{
 "cells": [
  {
   "attachments": {},
   "cell_type": "markdown",
   "metadata": {},
   "source": [
    "## Create more config files for the seq_label.py\n",
    "Starts with an existing config, like one made by create_fine-tune_json, and makes changes to that. Written in order to take the results from previous iterations, and create more from the best."
   ]
  },
  {
   "cell_type": "code",
   "execution_count": 3,
   "metadata": {},
   "outputs": [],
   "source": [
    "import os, json\n",
    "from pathlib import Path\n",
    "from datetime import datetime\n",
    "import itertools\n"
   ]
  },
  {
   "cell_type": "code",
   "execution_count": 4,
   "metadata": {},
   "outputs": [
    {
     "name": "stdout",
     "output_type": "stream",
     "text": [
      "['timestamp', 'num_seeds', 'task', 'model_shortname', 'machinery', 'args_dict', 'best_epoch', 'train_epochs_val']\n",
      "08231500_tsa-intensity_NorBERT_3_base_101\n",
      "08231500_tsa-intensity_NorBERT_3_base_202\n",
      "08231500_tsa-intensity_NorBERT_3_base_303\n",
      "['timestamp', 'num_seeds', 'task', 'model_shortname', 'machinery', 'args_dict', 'best_epoch', 'train_epochs_val']\n",
      "08231500_tsa-bin_NorBERT_3_base_101\n",
      "08231500_tsa-bin_NorBERT_3_base_202\n",
      "08231500_tsa-bin_NorBERT_3_base_303\n",
      "['timestamp', 'num_seeds', 'task', 'model_shortname', 'machinery', 'args_dict', 'best_epoch', 'train_epochs_val']\n",
      "08231500_tsa-bin_NorBERT_3_large_101\n",
      "08231500_tsa-bin_NorBERT_3_large_202\n",
      "08231500_tsa-bin_NorBERT_3_large_303\n",
      "['timestamp', 'num_seeds', 'task', 'model_shortname', 'machinery', 'args_dict', 'best_epoch', 'train_epochs_val']\n",
      "08231500_tsa-intensity_NorBERT_3_large_101\n",
      "08231500_tsa-intensity_NorBERT_3_large_202\n",
      "08231500_tsa-intensity_NorBERT_3_large_303\n"
     ]
    }
   ],
   "source": [
    "timestamp = datetime.now().strftime(\"%m%d%H%M\")\n",
    "local_out_dir = \"/cluster/work/projects/ec30/egilron\"\n",
    "root = \"/fp/homes01/u01/ec-egilron/sqlabel-github/configs/fox\"\n",
    "chosen = [\n",
    "    \"08161327_tsa-intensity_NorBERT_3_base_25.json\",\n",
    "    \"08161531_tsa-bin_NorBERT_3_base_31.json\",\n",
    "    \"08161531_tsa-bin_NorBERT_3_large_17.json\",\n",
    "    \"08161327_tsa-intensity_NorBERT_3_large_17.json\"\n",
    "]\n",
    "for config in chosen:\n",
    "    source_data = json.loads(Path(root, config).read_text())\n",
    "    print(list(source_data))\n",
    "    meta = {\"timestamp\": timestamp,\n",
    "            \"task\" : source_data[\"task\"],\n",
    "            \"model_shortname\" : source_data[\"model_shortname\"], \n",
    "            \"machinery\" : \"fox\"}\n",
    "    args_dict = source_data[\"args_dict\"]\n",
    "\n",
    "    # What is new this time:\n",
    "    seeds = [101, 202, 303]\n",
    "   \n",
    "    for seed in seeds:\n",
    "        new_name = \"_\".join([str(timestamp), meta[\"task\"], meta[\"model_shortname\"], str(seed)])\n",
    "        args_dict[\"seed\"] = seed\n",
    "        args_dict[\"save_total_limit\"] = 2\n",
    "        args_dict[\"output_dir\"] = str(Path(local_out_dir, new_name).resolve())\n",
    "\n",
    "        meta[\"args_dict\"] = args_dict\n",
    "        # Path(root, new_name+\".json\").write_text(json.dumps(meta))\n",
    "        print(new_name)\n",
    "\n"
   ]
  },
  {
   "cell_type": "code",
   "execution_count": 8,
   "metadata": {},
   "outputs": [
    {
     "name": "stdout",
     "output_type": "stream",
     "text": [
      "Created 4 new configs with timestamp 08231514\n",
      "Created 4 new configs with timestamp 08231514\n",
      "Created 4 new configs with timestamp 08231514\n",
      "Created 4 new configs with timestamp 08231514\n"
     ]
    }
   ],
   "source": [
    "# Final training. We have decided on seed and epochs\n",
    "timestamp = datetime.now().strftime(\"%m%d%H%M\")\n",
    "source_configs = [f for f in Path(root).iterdir() if \"08231013\" in f.name and \"_303.\" in f.name]\n",
    "for config in source_configs:\n",
    "    source_data = json.loads(Path(config).read_text())\n",
    "    meta = {\"timestamp\": timestamp,\n",
    "        \"task\" : source_data[\"task\"],\n",
    "        \"model_shortname\" : source_data[\"model_shortname\"], \n",
    "        \"machinery\" : \"fox\"}\n",
    "    args_dict = source_data[\"args_dict\"]\n",
    "    new_name = \"_\".join([str(timestamp), meta[\"task\"], meta[\"model_shortname\"]])\n",
    "    args_dict[\"seed\"] = 303\n",
    "    args_dict[\"num_train_epochs\"] = 13\n",
    "    args_dict[\"load_best_model_at_end\"] = False # We have experimented and want the last.\n",
    "    meta[\"args_dict\"] = args_dict\n",
    "    Path(root, new_name+\".json\").write_text(json.dumps(meta))\n",
    "print(\"Created\", len(source_configs), \"new configs with timestamp\", timestamp)"
   ]
  },
  {
   "cell_type": "code",
   "execution_count": 6,
   "metadata": {},
   "outputs": [
    {
     "data": {
      "text/plain": [
       "'/cluster/work/projects/ec30/egilron/08231500_tsa-intensity_NorBERT_3_large_303'"
      ]
     },
     "execution_count": 6,
     "metadata": {},
     "output_type": "execute_result"
    }
   ],
   "source": [
    "args_dict[\"output_dir\"]"
   ]
  }
 ],
 "metadata": {
  "kernelspec": {
   "display_name": "Python 3 (ipykernel)",
   "language": "python",
   "name": "python3"
  },
  "language_info": {
   "codemirror_mode": {
    "name": "ipython",
    "version": 3
   },
   "file_extension": ".py",
   "mimetype": "text/x-python",
   "name": "python",
   "nbconvert_exporter": "python",
   "pygments_lexer": "ipython3",
   "version": "3.6.8"
  }
 },
 "nbformat": 4,
 "nbformat_minor": 4
}
